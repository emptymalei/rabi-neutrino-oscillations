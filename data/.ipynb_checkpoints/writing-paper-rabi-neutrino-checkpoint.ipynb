{
 "cells": [
  {
   "cell_type": "markdown",
   "metadata": {},
   "source": [
    "## Writing a Paper"
   ]
  },
  {
   "cell_type": "markdown",
   "metadata": {},
   "source": [
    "### 2016-08-08"
   ]
  },
  {
   "cell_type": "markdown",
   "metadata": {},
   "source": [
    "After some calculation and verification, the castle wall profile is exactly some multi-frequency matter profile.\n",
    "\n",
    "No need to do more derivatioins.\n",
    "\n",
    "Some parameters are needed: How to choose a good set of parameters to show that the conditions given by Akhmedov and Rabi view are similar (or not)?\n",
    "\n",
    "1. The system should be at resonance for some modes;\n",
    "   I choose the background matter density to be similar to the one we used before, i.e., $0.5\\omega_{MSW}$ \n",
    "\n"
   ]
  },
  {
   "cell_type": "markdown",
   "metadata": {},
   "source": [
    "### 2016-08-09"
   ]
  },
  {
   "cell_type": "markdown",
   "metadata": {},
   "source": [
    "![](assets/writing-paper-rabi-neutrino/akhmedovConditionDeviationPlt.png)"
   ]
  },
  {
   "cell_type": "markdown",
   "metadata": {},
   "source": [
    "![](assets/writing-paper-rabi-neutrino/castle-wall-matter-profile-0.8-0.88.png)"
   ]
  },
  {
   "cell_type": "markdown",
   "metadata": {},
   "source": [
    "![](assets/writing-paper-rabi-neutrino/akhmedovOscPlt.png)"
   ]
  },
  {
   "cell_type": "code",
   "execution_count": null,
   "metadata": {
    "collapsed": true
   },
   "outputs": [],
   "source": []
  },
  {
   "cell_type": "markdown",
   "metadata": {
    "collapsed": true
   },
   "source": [
    "### 2016-08-11"
   ]
  },
  {
   "cell_type": "markdown",
   "metadata": {},
   "source": [
    "Write the first part that introduces the "
   ]
  }
 ],
 "metadata": {
  "kernelspec": {
   "display_name": "Python 2",
   "language": "python",
   "name": "python2"
  },
  "language_info": {
   "codemirror_mode": {
    "name": "ipython",
    "version": 2
   },
   "file_extension": ".py",
   "mimetype": "text/x-python",
   "name": "python",
   "nbconvert_exporter": "python",
   "pygments_lexer": "ipython2",
   "version": "2.7.11"
  }
 },
 "nbformat": 4,
 "nbformat_minor": 0
}
